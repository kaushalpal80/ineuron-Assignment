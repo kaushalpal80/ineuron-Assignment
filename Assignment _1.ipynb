{
 "cells": [
  {
   "cell_type": "markdown",
   "id": "ddc0e225",
   "metadata": {},
   "source": [
    "# Assignment 1\n"
   ]
  },
  {
   "cell_type": "markdown",
   "id": "49658fcb",
   "metadata": {},
   "source": [
    "1. In the below elements which of them are values or an expression? eg:- values can be\n",
    "integer or string and expressions will be mathematical operators.\n",
    "*\n",
    "'hello'\n",
    "-87.8\n",
    "-\n",
    "/\n",
    "+\n",
    "6\n",
    "\n",
    "\n",
    "ANSWER:\n",
    "The values are \"hello\",-87.8 and 6.\n",
    "The expressions are *,-,/ and +."
   ]
  },
  {
   "cell_type": "markdown",
   "id": "f5327af0",
   "metadata": {},
   "source": [
    "2. What is the difference between string and variable?\n",
    "\n",
    "ANSWER:\n",
    "\n",
    "String: Strings in python define as whatever data enclose within quotes \n",
    "       example- a=\"rahul\" here rahul become string.\n",
    "       \n",
    "Variable: Any data define by the character so that the character become a variable and this variable \n",
    "          used to store data in memory. Variable can also named the string data type. "
   ]
  },
  {
   "cell_type": "markdown",
   "id": "d0b0c975",
   "metadata": {},
   "source": [
    "3. Describe three different data types.\n",
    "\n",
    "\n",
    "\n",
    "\n",
    "Answer:\n",
    "\n",
    "Integer:- They are whole number, without fractional component they can be positive and nagative      "
   ]
  },
  {
   "cell_type": "code",
   "execution_count": 3,
   "id": "227eb0c5",
   "metadata": {},
   "outputs": [
    {
     "name": "stdout",
     "output_type": "stream",
     "text": [
      "10\n",
      "<class 'int'>\n"
     ]
    }
   ],
   "source": [
    "# example of integer\n",
    "x=10\n",
    "print(x)\n",
    "\n",
    "# now check the data type \n",
    "print(type(x)) "
   ]
  },
  {
   "cell_type": "markdown",
   "id": "10434eed",
   "metadata": {},
   "source": [
    "Strings:- In python strings are a sequence of character data. they are created by enclosing character in quotes.\n",
    "         "
   ]
  },
  {
   "cell_type": "code",
   "execution_count": 5,
   "id": "09c3d263",
   "metadata": {},
   "outputs": [
    {
     "name": "stdout",
     "output_type": "stream",
     "text": [
      "koushal kumar\n",
      "<class 'str'>\n"
     ]
    }
   ],
   "source": [
    "# example of strings\n",
    "y=\"koushal kumar\"\n",
    "print(y)\n",
    "\n",
    "# now check the data type\n",
    "print(type(y))\n"
   ]
  },
  {
   "cell_type": "markdown",
   "id": "99454b41",
   "metadata": {},
   "source": [
    "Floats:- Float represent real numbers and are written with a decimal point."
   ]
  },
  {
   "cell_type": "code",
   "execution_count": 6,
   "id": "4e169cbd",
   "metadata": {},
   "outputs": [
    {
     "name": "stdout",
     "output_type": "stream",
     "text": [
      "11.5\n",
      "<class 'float'>\n"
     ]
    }
   ],
   "source": [
    "# example of floats\n",
    "z=11.5\n",
    "print(z)\n",
    "\n",
    "# now check the data type z\n",
    "print(type(z))\n"
   ]
  },
  {
   "cell_type": "markdown",
   "id": "15f5e54e",
   "metadata": {},
   "source": [
    "4. What is an expression made up of? What do all expressions do?\n",
    "\n",
    "Answer:\n",
    "\n",
    "An expression made up of following terms like addition,substraction,multiplication,etc and the symbols\n",
    "of following terms like +,-,*,// etc.\n",
    "The all expression do some functionality which is mostly related to mathematics.\n"
   ]
  },
  {
   "cell_type": "markdown",
   "id": "c52c28c7",
   "metadata": {},
   "source": [
    "5. This assignment statements, like spam = 10. What is the difference between an\n",
    "expression and a statement?\n",
    "\n",
    "\n",
    "Answer:\n",
    "-In expression when some functionality define like addition(+) in between two or more variable and in statement we given some\n",
    "logical instruction such as conditional and looping\n",
    "-In expression we put only some symbol but in statement we write down some condition.\n"
   ]
  },
  {
   "cell_type": "code",
   "execution_count": 8,
   "id": "632259e2",
   "metadata": {},
   "outputs": [
    {
     "name": "stdout",
     "output_type": "stream",
     "text": [
      "100\n"
     ]
    }
   ],
   "source": [
    "# example of expression \n",
    "spam=10\n",
    "t=spam*spam\n",
    "print(t)"
   ]
  },
  {
   "cell_type": "code",
   "execution_count": 10,
   "id": "3a571239",
   "metadata": {},
   "outputs": [
    {
     "name": "stdout",
     "output_type": "stream",
     "text": [
      "enter the number:9\n",
      "seeta\n"
     ]
    }
   ],
   "source": [
    "# example of statement\n",
    "ram=int(input(\"enter the number:\"))\n",
    "if ram<10:\n",
    "        print(\"seeta\")\n",
    "else:\n",
    "        print(\"ram\")"
   ]
  },
  {
   "cell_type": "markdown",
   "id": "19315f33",
   "metadata": {},
   "source": [
    "6. After running the following code, what does the variable bacon contain?\n",
    "bacon = 22\n",
    "bacon + 1\n",
    "\n",
    "Answer:\n",
    "Variable baccon contain value of 22 which is integer"
   ]
  },
  {
   "cell_type": "code",
   "execution_count": 14,
   "id": "70e99a72",
   "metadata": {},
   "outputs": [
    {
     "name": "stdout",
     "output_type": "stream",
     "text": [
      "22\n",
      "<class 'int'>\n"
     ]
    }
   ],
   "source": [
    "# let check the following item\n",
    "bacon=22   \n",
    "print(bacon)\n",
    "print(type(bacon))"
   ]
  },
  {
   "cell_type": "code",
   "execution_count": 12,
   "id": "8b008037",
   "metadata": {},
   "outputs": [
    {
     "ename": "NameError",
     "evalue": "name 'bacon' is not defined",
     "output_type": "error",
     "traceback": [
      "\u001b[1;31m---------------------------------------------------------------------------\u001b[0m",
      "\u001b[1;31mNameError\u001b[0m                                 Traceback (most recent call last)",
      "Cell \u001b[1;32mIn[12], line 1\u001b[0m\n\u001b[1;32m----> 1\u001b[0m \u001b[43mbacon\u001b[49m\u001b[38;5;241m+\u001b[39m\u001b[38;5;241m1\u001b[39m\n",
      "\u001b[1;31mNameError\u001b[0m: name 'bacon' is not defined"
     ]
    }
   ],
   "source": [
    "bacon+1 #here we found error because bacon is not define "
   ]
  },
  {
   "cell_type": "markdown",
   "id": "7e3e0b44",
   "metadata": {},
   "source": [
    "7. What should the values of the following two terms be?\n",
    "\n",
    "'spam'+'spamspam'\n",
    "'spam'*3"
   ]
  },
  {
   "cell_type": "code",
   "execution_count": 16,
   "id": "ed8d5365",
   "metadata": {},
   "outputs": [
    {
     "ename": "NameError",
     "evalue": "name 'spamspam' is not defined",
     "output_type": "error",
     "traceback": [
      "\u001b[1;31m---------------------------------------------------------------------------\u001b[0m",
      "\u001b[1;31mNameError\u001b[0m                                 Traceback (most recent call last)",
      "Cell \u001b[1;32mIn[16], line 2\u001b[0m\n\u001b[0;32m      1\u001b[0m \u001b[38;5;66;03m# Anwer:\u001b[39;00m\n\u001b[1;32m----> 2\u001b[0m \u001b[38;5;28mprint\u001b[39m(spam\u001b[38;5;241m+\u001b[39m\u001b[43mspamspam\u001b[49m)\n",
      "\u001b[1;31mNameError\u001b[0m: name 'spamspam' is not defined"
     ]
    }
   ],
   "source": [
    "# Anwer:\n",
    "print(spam+spamspam)"
   ]
  },
  {
   "cell_type": "code",
   "execution_count": 17,
   "id": "bf20df21",
   "metadata": {},
   "outputs": [
    {
     "name": "stdout",
     "output_type": "stream",
     "text": [
      "30\n"
     ]
    }
   ],
   "source": [
    "print(spam*3)"
   ]
  },
  {
   "cell_type": "markdown",
   "id": "8b2d135a",
   "metadata": {},
   "source": [
    "8. Why is eggs a valid variable name while 100 is invalid?\n",
    "\n",
    "Answer: In python variable always star with only alphabet charater and underscore character so that is why 100 is \n",
    "        invalid in variable in python.\n"
   ]
  },
  {
   "cell_type": "markdown",
   "id": "ffb59496",
   "metadata": {},
   "source": [
    "9. What three functions can be used to get the integer, floating-point number, or string\n",
    "   version of a value?\n",
    "\n",
    "\n",
    "Answer:The three function are to get the integer by int(), floating-point number by float() and string by str()\n",
    "\n",
    "\n",
    "\n"
   ]
  },
  {
   "cell_type": "markdown",
   "id": "4e04a9a4",
   "metadata": {},
   "source": [
    "10. Why does this expression cause an error? How can you fix it?\n",
    "    'I have eaten '+ 99 +' burritos.'\n",
    "    \n",
    " Answer :'I have eaten', '+ 99 +', 'burritos.' this is a correct way of given expression\n",
    " "
   ]
  },
  {
   "cell_type": "code",
   "execution_count": 18,
   "id": "d7894ab7",
   "metadata": {},
   "outputs": [
    {
     "name": "stdout",
     "output_type": "stream",
     "text": [
      "I have eaten + 99 + burritos.\n"
     ]
    }
   ],
   "source": [
    "print('I have eaten', '+ 99 +', 'burritos.')"
   ]
  },
  {
   "cell_type": "code",
   "execution_count": null,
   "id": "e14fae23",
   "metadata": {},
   "outputs": [],
   "source": []
  }
 ],
 "metadata": {
  "kernelspec": {
   "display_name": "Python 3 (ipykernel)",
   "language": "python",
   "name": "python3"
  },
  "language_info": {
   "codemirror_mode": {
    "name": "ipython",
    "version": 3
   },
   "file_extension": ".py",
   "mimetype": "text/x-python",
   "name": "python",
   "nbconvert_exporter": "python",
   "pygments_lexer": "ipython3",
   "version": "3.10.9"
  }
 },
 "nbformat": 4,
 "nbformat_minor": 5
}
