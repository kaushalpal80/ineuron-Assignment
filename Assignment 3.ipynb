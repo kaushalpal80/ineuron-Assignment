{
 "cells": [
  {
   "cell_type": "markdown",
   "id": "4c94665b",
   "metadata": {},
   "source": [
    "# Assignment 3"
   ]
  },
  {
   "cell_type": "markdown",
   "id": "6614148a",
   "metadata": {},
   "source": [
    "1. Why are functions advantageous to have in your programs?\n",
    "\n",
    "  Answer:\n",
    "        The functions are used in programming language so that its reduce the long typical coding again and again\n",
    "        so by function you can call it and give it the value in their argument or parameter and you can call the \n",
    "        same function in anywhere same script another advantage is that like a statement you should apply the \n",
    "        indentation for write your function.\n",
    "        \n"
   ]
  },
  {
   "cell_type": "markdown",
   "id": "26242594",
   "metadata": {},
   "source": [
    "2. When does the code in a function run: when it's specified or when it's called?\n",
    " \n",
    " Answer:\n",
    "        \n",
    "        After the def you would write your function name with close bracket and then indentation block in \n",
    "        close bracket you can give the argument and then you write your function after function write you\n",
    "        can access the function outside indentation example below:\n",
    "            "
   ]
  },
  {
   "cell_type": "code",
   "execution_count": 6,
   "id": "3cc438d0",
   "metadata": {},
   "outputs": [
    {
     "name": "stdout",
     "output_type": "stream",
     "text": [
      "105 km\n"
     ]
    }
   ],
   "source": [
    "# example of funtion\n",
    "def my_func(a,b):\n",
    "    total_distance=a + b\n",
    "    return total_distance\n",
    "a=my_func(50,55)\n",
    "print(a,\"km\")"
   ]
  },
  {
   "cell_type": "markdown",
   "id": "10abdf84",
   "metadata": {},
   "source": [
    "3. What statement creates a function?\n",
    "\n",
    " Answer:\n",
    "        A function creates statement like:\n",
    "            \n",
    "        def ---->Initially function can take by def keyword\n",
    "        \n",
    "        function_name ------> function name use for calling by its name\n",
    "        \n",
    "        parameter or argument----->An argument is given by user so that function can take it as a value and as a variable\n",
    "        \n",
    "        return------Return use for multiple time in a function"
   ]
  },
  {
   "cell_type": "markdown",
   "id": "66c8c8a1",
   "metadata": {},
   "source": [
    "4. What is the difference between a function and a function call? \n",
    "    \n",
    " Answer:\n",
    "        \n",
    "        A function is only a syntax by the help of this function you define and write the function under it in \n",
    "        a indentation.\n",
    "        \n",
    "        A function call means that when we write a function with parameter then we should run it the process of \n",
    "        run a function is called function call it should always call outside the indentation.\n",
    "        "
   ]
  },
  {
   "cell_type": "markdown",
   "id": "54a5c6af",
   "metadata": {},
   "source": [
    "5. How many global scopes are there in a Python program? How many local scopes?\n",
    "\n",
    " Answer:\n",
    "        \n",
    "        (a):There is only one global Python scope per program execution. This scope remains\n",
    "           in existence until the program terminates and all its names are forgotten.\n",
    "        \n",
    "        (b): Here only one local scope which is always use under the function local variable\n",
    "             can not use out of the function.\n",
    "        "
   ]
  },
  {
   "cell_type": "markdown",
   "id": "45964167",
   "metadata": {},
   "source": [
    "6. What happens to variables in a local scope when the function call returns?\n",
    "\n",
    " Answer:\n",
    "        \n",
    "        In a local scope variable always call when function call as return\n",
    "        \n",
    "        "
   ]
  },
  {
   "cell_type": "markdown",
   "id": "82ff642b",
   "metadata": {},
   "source": [
    "7. What is the concept of a return value? Is it possible to have a return value in an expression?\n",
    "\n",
    " \n",
    " Answer:\n",
    "        \n",
    "        The concept of a return value in any function so that you can call the value many time as you\n",
    "        want.\n",
    "        \n",
    "        Yes, it is possible to have a return value in an expression in Python. In Python (and many other\n",
    "        programming languages), functions can be used within expressions, and their return values can be \n",
    "        directly utilized in those expressions."
   ]
  },
  {
   "cell_type": "code",
   "execution_count": 10,
   "id": "c7b6b94e",
   "metadata": {},
   "outputs": [
    {
     "name": "stdout",
     "output_type": "stream",
     "text": [
      "70\n"
     ]
    }
   ],
   "source": [
    "# example of return value in expression\n",
    "def add_numbers(a, b):\n",
    "    return a + b\n",
    "\n",
    "def multiply_numbers(a, b):\n",
    "    return a * b\n",
    "\n",
    "result = add_numbers(3, 4) * multiply_numbers(2, 5)\n",
    "print(result)\n"
   ]
  },
  {
   "cell_type": "markdown",
   "id": "65ff2818",
   "metadata": {},
   "source": [
    "8. If a function does not have a return statement, what is the return value of a call to that function?\n",
    "\n",
    "\n",
    " Answer:\n",
    "       \n",
    "        If a function does not contain the return statement then the value can be return by the in the\n",
    "        form of print statement."
   ]
  },
  {
   "cell_type": "code",
   "execution_count": 13,
   "id": "0c60cd2f",
   "metadata": {},
   "outputs": [
    {
     "name": "stdout",
     "output_type": "stream",
     "text": [
      "9\n"
     ]
    }
   ],
   "source": [
    "# here is the example of above statement\n",
    "def add_numbers(a, b):\n",
    "    print( a + b)\n",
    "   \n",
    "add_numbers(4,5)"
   ]
  },
  {
   "cell_type": "markdown",
   "id": "4b0c632e",
   "metadata": {},
   "source": [
    "9. How do you make a function variable refer to the global variable?\n",
    "\n",
    "Answer: We make funciton variable as a global variable by just mention the variable by global \n",
    "       "
   ]
  },
  {
   "cell_type": "code",
   "execution_count": 20,
   "id": "086372f9",
   "metadata": {},
   "outputs": [
    {
     "name": "stdout",
     "output_type": "stream",
     "text": [
      "4\n",
      "10\n"
     ]
    }
   ],
   "source": [
    "# example of How do you make a function variable refer to the global variable\n",
    "x=10\n",
    "def my_function():#here we are not using global keyword\n",
    "    x=4\n",
    "    y=5\n",
    "    print(x)\n",
    "my_function()\n",
    "print(x)\n",
    "\n",
    "\n"
   ]
  },
  {
   "cell_type": "code",
   "execution_count": 21,
   "id": "b9cea6ba",
   "metadata": {},
   "outputs": [
    {
     "name": "stdout",
     "output_type": "stream",
     "text": [
      "4\n",
      "4\n"
     ]
    }
   ],
   "source": [
    "x=10\n",
    "def my_function():#here we are using global keyword so that our variable x become global so that it will run outside of the function\n",
    "    global x\n",
    "    x=4\n",
    "    y=5\n",
    "    print(x)\n",
    "my_function()\n",
    "print(x)"
   ]
  },
  {
   "cell_type": "markdown",
   "id": "652d4166",
   "metadata": {},
   "source": [
    "10. What is the data type of None?\n",
    "\n",
    " Answer:\n",
    "         The data type of None is called NoneType. It is the only value of this type, and it represents\n",
    "         a lack of data. In Python, you can check if a variable contains None using the is comparison operator.\n",
    "            \n",
    "        "
   ]
  },
  {
   "cell_type": "code",
   "execution_count": 22,
   "id": "0d7638c8",
   "metadata": {},
   "outputs": [
    {
     "name": "stdout",
     "output_type": "stream",
     "text": [
      "<class 'NoneType'>\n"
     ]
    }
   ],
   "source": [
    "x=None\n",
    "print(type(x))"
   ]
  },
  {
   "cell_type": "markdown",
   "id": "35ddd0a4",
   "metadata": {},
   "source": [
    "11. What does the sentence import areallyourpetsnamederic do?\n",
    "\n",
    " Answer: This is not a module in pyhton.\n",
    " \n",
    "        "
   ]
  },
  {
   "cell_type": "code",
   "execution_count": 24,
   "id": "d01aa594",
   "metadata": {},
   "outputs": [
    {
     "ename": "ModuleNotFoundError",
     "evalue": "No module named 'areallyourpetsnamederic'",
     "output_type": "error",
     "traceback": [
      "\u001b[1;31m---------------------------------------------------------------------------\u001b[0m",
      "\u001b[1;31mModuleNotFoundError\u001b[0m                       Traceback (most recent call last)",
      "Cell \u001b[1;32mIn[24], line 1\u001b[0m\n\u001b[1;32m----> 1\u001b[0m \u001b[38;5;28;01mimport\u001b[39;00m \u001b[38;5;21;01mareallyourpetsnamederic\u001b[39;00m\n",
      "\u001b[1;31mModuleNotFoundError\u001b[0m: No module named 'areallyourpetsnamederic'"
     ]
    }
   ],
   "source": [
    "import areallyourpetsnamederic"
   ]
  },
  {
   "cell_type": "markdown",
   "id": "5385a6a3",
   "metadata": {},
   "source": [
    "12. If you had a bacon() feature in a spam module, what would you call it after importing spam?\n",
    "\n",
    " Answer:\n",
    "        \n",
    "        import spam\n",
    "        spam.bacon()"
   ]
  },
  {
   "cell_type": "markdown",
   "id": "6e24afc4",
   "metadata": {},
   "source": [
    "13. What can you do to save a programme from crashing if it encounters an error?\n",
    "\n",
    " Answer:\n",
    "        \n",
    "        For without crasing programme we should use try and except blocks example below:"
   ]
  },
  {
   "cell_type": "code",
   "execution_count": 25,
   "id": "3be28031",
   "metadata": {},
   "outputs": [
    {
     "name": "stdout",
     "output_type": "stream",
     "text": [
      "Error: Cannot divide by zero.\n"
     ]
    }
   ],
   "source": [
    "def divide(a, b):\n",
    "    try:\n",
    "        result = a / b\n",
    "        return result\n",
    "    except ZeroDivisionError:\n",
    "        print(\"Error: Cannot divide by zero.\")\n",
    "        return None\n",
    "\n",
    "# Example usage\n",
    "numerator = 10\n",
    "denominator = 0\n",
    "\n",
    "result = divide(numerator, denominator)\n",
    "if result is not None:\n",
    "    print(\"Result:\", result)"
   ]
  },
  {
   "cell_type": "markdown",
   "id": "f83e2bd0",
   "metadata": {},
   "source": [
    "14. What is the purpose of the try clause? What is the purpose of the except clause?\n",
    "\n",
    " Answer:\n",
    "        \n",
    "        Try clause :- In try clause we use it because we don't want an error so our code will run without throw\n",
    "                      an error wheather is it right or wrong\n",
    "            \n",
    "        except clause:- In except clause we want to print the message of an error so that our code will run even there is\n",
    "                        an error but at that time it will throw an error as a print "
   ]
  },
  {
   "cell_type": "code",
   "execution_count": null,
   "id": "bdec1877",
   "metadata": {},
   "outputs": [],
   "source": []
  }
 ],
 "metadata": {
  "kernelspec": {
   "display_name": "Python 3 (ipykernel)",
   "language": "python",
   "name": "python3"
  },
  "language_info": {
   "codemirror_mode": {
    "name": "ipython",
    "version": 3
   },
   "file_extension": ".py",
   "mimetype": "text/x-python",
   "name": "python",
   "nbconvert_exporter": "python",
   "pygments_lexer": "ipython3",
   "version": "3.10.9"
  }
 },
 "nbformat": 4,
 "nbformat_minor": 5
}
