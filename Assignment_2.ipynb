{
 "cells": [
  {
   "cell_type": "markdown",
   "id": "f6cd305c",
   "metadata": {},
   "source": [
    "# Assignment 2\n"
   ]
  },
  {
   "cell_type": "markdown",
   "id": "61fc54c4",
   "metadata": {},
   "source": [
    "1.What are the two values of the Boolean data type? How do you write them?\n",
    "\n",
    "Answer:\n",
    "  The two values of the Boolean data types are True and False.\n",
    "  \n",
    "  a=True \n",
    " \n",
    "  b=False\n",
    "  \n",
    "  "
   ]
  },
  {
   "cell_type": "markdown",
   "id": "03d2b619",
   "metadata": {},
   "source": [
    "2. What are the three different types of Boolean operators?\n",
    "\n",
    "\n",
    " Answer:\n",
    "        The Boolean operators are (and),(or) and (not).\n"
   ]
  },
  {
   "cell_type": "markdown",
   "id": "98336eee",
   "metadata": {},
   "source": [
    "3. Make a list of each Boolean operator's truth tables (i.e. every possible combination of Boolean values for the operator and what it evaluate ).\n",
    "\n",
    "\n",
    "Answer: For AND \n",
    "\n",
    "        (A)       (B)       (A AND B)\n",
    "     \n",
    "       True     False    False\n",
    "       True     True     True\n",
    "       False    False    False\n",
    "       False    True     False\n",
    "       \n",
    "       \n",
    "      "
   ]
  },
  {
   "cell_type": "markdown",
   "id": "0930ea44",
   "metadata": {},
   "source": [
    "       For or\n",
    "      \n",
    "      (A)       (B)       (A or B)|\n",
    "     \n",
    "       True     False    True\n",
    "       True     True     True\n",
    "       False    False    False\n",
    "       False    True     True"
   ]
  },
  {
   "cell_type": "markdown",
   "id": "743dc6b5",
   "metadata": {},
   "source": [
    "      For Not\n",
    "     \n",
    "      (A)       NOt(A)\n",
    "    \n",
    "     False       True\n",
    "     True        False"
   ]
  },
  {
   "cell_type": "markdown",
   "id": "6847da90",
   "metadata": {},
   "source": [
    "4. What are the values of the following expressions?\n",
    "\n",
    "\n",
    "(5 > 4) and (3 == 5)                \n",
    "\n",
    "not (5 > 4)\n",
    "\n",
    "(5 > 4) or (3 == 5)\n",
    "\n",
    "not ((5 > 4) or (3 == 5))\n",
    "\n",
    "(True and True) and (True == False)\n",
    "\n",
    "(not False) or (not True)\n",
    "\n",
    "Answer:\n",
    "       (5 > 4) and (3 == 5)-----------------> False\n",
    "       \n",
    "       not (5 > 4)--------------------------> False\n",
    "       (5 > 4) or (3 == 5)------------------> True\n",
    "       not ((5 > 4) or (3 == 5))------------> False\n",
    "       (True and True) and (True == False)--> False\n",
    "        (not False) or (not True)-----------> True\n",
    "        \n",
    "        \n",
    "        \n",
    "        \n",
    "        "
   ]
  },
  {
   "cell_type": "markdown",
   "id": "9a05c6d0",
   "metadata": {},
   "source": [
    "5. What are the six comparison operators?\n",
    "\n",
    "Answer:\n",
    "       a). Less than <\n",
    "       \n",
    "       b). Greater than >\n",
    "       \n",
    "       c). Less than or equal to <=\n",
    "       \n",
    "       d). Greater than or equal to >=\n",
    "       \n",
    "       e). Equal to   ==\n",
    "       \n",
    "       f). Not equal to != \n",
    "      "
   ]
  },
  {
   "cell_type": "markdown",
   "id": "394ab77c",
   "metadata": {},
   "source": [
    "6. How do you tell the difference between the equal to and assignment operators?Describe a condition and when you would use one.\n",
    "\n",
    "\n",
    " Answer:\n",
    "        Equal to(==) operator in programming use for compare the equality of two values.\n",
    "        \n",
    "        Assignment(=) operators use to assign the value to the variable \n",
    "        \n",
    "\n",
    "\n"
   ]
  },
  {
   "cell_type": "code",
   "execution_count": 21,
   "id": "873aa1cf",
   "metadata": {},
   "outputs": [
    {
     "name": "stdout",
     "output_type": "stream",
     "text": [
      "ram\n",
      "16\n"
     ]
    }
   ],
   "source": [
    "# example for equal to operator \n",
    "x=10 #here we have a assign operator\n",
    "if x==10: #here equal to operator check the value of x\n",
    "    print(\"ram\")\n",
    "#let see the example of assigment operator \n",
    "\n",
    "x+=6#ere (+=) is assignment operator which tell us that the adding previous value of x with new value of x\n",
    "print(x)"
   ]
  },
  {
   "cell_type": "markdown",
   "id": "1377570d",
   "metadata": {},
   "source": [
    "\n",
    "7. Identify the three blocks in this code:\n",
    "spam = 0\n",
    "\n",
    "if spam == 10:\n",
    "\n",
    "print('eggs')\n",
    "\n",
    "if spam > 5:\n",
    "\n",
    "print('bacon')\n",
    "else:\n",
    "\n",
    "print('ham')\n",
    "\n",
    "print('spam')\n",
    "\n",
    "print('spam')\n",
    "\n"
   ]
  },
  {
   "cell_type": "code",
   "execution_count": 14,
   "id": "8f3bb72e",
   "metadata": {},
   "outputs": [
    {
     "name": "stdout",
     "output_type": "stream",
     "text": [
      "ham\n",
      "spam\n",
      "spam\n"
     ]
    }
   ],
   "source": [
    "# Answer:`\n",
    "spam = 0\n",
    "if spam == 10:\n",
    "    print('eggs') #here it is our 1st indentation BLock\n",
    "if spam > 5:\n",
    "    print('bacon')# here our 2nd indentation Block\n",
    "else:\n",
    "    print('ham')  # here our 3rd indentation Block \n",
    "    \n",
    "    print('spam')\n",
    "    print('spam')"
   ]
  },
  {
   "cell_type": "markdown",
   "id": "b11a0a82",
   "metadata": {},
   "source": [
    "8. Write code that prints Hello if 1 is stored in spam, prints Howdy if 2 is stored in spam, \n",
    "   and prints Greetings! if anything else is stored in spam."
   ]
  },
  {
   "cell_type": "code",
   "execution_count": 18,
   "id": "3edaced0",
   "metadata": {},
   "outputs": [
    {
     "name": "stdout",
     "output_type": "stream",
     "text": [
      "enter any number here :2\n",
      "Howdy\n"
     ]
    }
   ],
   "source": [
    "# Answer:\n",
    "spam=int(input(\"enter any number here :\"))\n",
    "\n",
    "if spam==1:\n",
    "    print(\"Hello\")\n",
    "    \n",
    "elif spam==2:\n",
    "    print(\"Howdy\")\n",
    "\n",
    "else:\n",
    "    print(\"Greetings!\")"
   ]
  },
  {
   "cell_type": "markdown",
   "id": "2bfb5d1a",
   "metadata": {},
   "source": [
    "9.If your programme is stuck in an endless loop, what keys you’ll press?\n",
    "\n",
    "Answer:\n",
    "       If our programme is stuck in an endless loop than we should press ctrl + c key so we can come out of the loop."
   ]
  },
  {
   "cell_type": "markdown",
   "id": "f1c3d565",
   "metadata": {},
   "source": [
    "10. How can you tell the difference between break and continue?\n",
    "   \n",
    "    Answer:\n",
    "          Break and continue statement are used in loop for break statement we can end the iteration after use \n",
    "          \n",
    "            the break but in continue statement we can skip the perticuler iteration and remaining will run.\n",
    "            example--\n",
    "            "
   ]
  },
  {
   "cell_type": "code",
   "execution_count": 19,
   "id": "8249b6be",
   "metadata": {},
   "outputs": [
    {
     "name": "stdout",
     "output_type": "stream",
     "text": [
      "0\n",
      "1\n",
      "2\n"
     ]
    }
   ],
   "source": [
    "# example of break statement\n",
    "for i in range(5):\n",
    "    if i == 3:\n",
    "        break\n",
    "    print(i)"
   ]
  },
  {
   "cell_type": "code",
   "execution_count": 20,
   "id": "937cdca3",
   "metadata": {},
   "outputs": [
    {
     "name": "stdout",
     "output_type": "stream",
     "text": [
      "0\n",
      "1\n",
      "3\n",
      "4\n"
     ]
    }
   ],
   "source": [
    "# example of continue statement\n",
    "for i in range(5):\n",
    "    if i==2:\n",
    "        continue\n",
    "    print(i)    "
   ]
  },
  {
   "cell_type": "markdown",
   "id": "4ccb1ad3",
   "metadata": {},
   "source": [
    "11. In a for loop, what is the difference between range(10), range(0, 10), and range(0, 10, 1)?\n",
    "\n",
    "  Answer:\n",
    "          \n",
    "          Range(10) mean the valaue of given range from 0 to 9 in this range 10 is not include because in counting\n",
    "          \n",
    "          zero is included the value is 0,1,2,3,4,5,6,7,8,9.\n",
    "          \n",
    "          Range(0,10) is same as range(10) so there is no difference in between the ranges.\n",
    "          \n",
    "          Range(0,10,1) is also same as range(10) and range(0,10) because when we print the range(0,10,1) in loop its\n",
    "          \n",
    "          give you same result but here the value of 3rd place represent the how much value is skip in given range."
   ]
  },
  {
   "cell_type": "markdown",
   "id": "72dac21b",
   "metadata": {},
   "source": [
    "12. Write a short program that prints the numbers 1 to 10 using a for loop. Then write an \n",
    "    equivalent program that prints the numbers 1 to 10 using a while loop."
   ]
  },
  {
   "cell_type": "code",
   "execution_count": 25,
   "id": "5822476c",
   "metadata": {},
   "outputs": [
    {
     "name": "stdout",
     "output_type": "stream",
     "text": [
      "1\n",
      "2\n",
      "3\n",
      "4\n",
      "5\n",
      "6\n",
      "7\n",
      "8\n",
      "9\n",
      "10\n"
     ]
    }
   ],
   "source": [
    "# Answer:\n",
    "\n",
    "#for loop\n",
    "for i in range(1,11):\n",
    "    print(i)"
   ]
  },
  {
   "cell_type": "code",
   "execution_count": 26,
   "id": "3a54e351",
   "metadata": {},
   "outputs": [
    {
     "name": "stdout",
     "output_type": "stream",
     "text": [
      "1\n",
      "2\n",
      "3\n",
      "4\n",
      "5\n",
      "6\n",
      "7\n",
      "8\n",
      "9\n",
      "10\n"
     ]
    }
   ],
   "source": [
    "#for while loop\n",
    "a=1\n",
    "while a<11:\n",
    "    print(a)\n",
    "    a=a+1\n"
   ]
  },
  {
   "cell_type": "markdown",
   "id": "d1c33b82",
   "metadata": {},
   "source": [
    "13. If you had a function named bacon() inside a module named spam, how would you call it after importing spam?\n",
    "\n",
    " Answer:\n",
    " \n",
    "       Function name is bacon\n",
    "       Module name is spam\n",
    "       now,\n",
    "           import spam \n",
    "           spam.bacon() #here we call the function like that.\n",
    "       "
   ]
  },
  {
   "cell_type": "code",
   "execution_count": null,
   "id": "476c0810",
   "metadata": {},
   "outputs": [],
   "source": []
  }
 ],
 "metadata": {
  "kernelspec": {
   "display_name": "Python 3 (ipykernel)",
   "language": "python",
   "name": "python3"
  },
  "language_info": {
   "codemirror_mode": {
    "name": "ipython",
    "version": 3
   },
   "file_extension": ".py",
   "mimetype": "text/x-python",
   "name": "python",
   "nbconvert_exporter": "python",
   "pygments_lexer": "ipython3",
   "version": "3.10.9"
  }
 },
 "nbformat": 4,
 "nbformat_minor": 5
}
